{
  "nbformat": 4,
  "nbformat_minor": 0,
  "metadata": {
    "colab": {
      "name": "House_Price.ipynb",
      "provenance": [],
      "collapsed_sections": [],
      "authorship_tag": "ABX9TyP69XGuM04NBjod3Qhe3eYo",
      "include_colab_link": true
    },
    "kernelspec": {
      "name": "python3",
      "display_name": "Python 3"
    }
  },
  "cells": [
    {
      "cell_type": "markdown",
      "metadata": {
        "id": "view-in-github",
        "colab_type": "text"
      },
      "source": [
        "<a href=\"https://colab.research.google.com/github/jason147172/tibame/blob/master/House_Price.ipynb\" target=\"_parent\"><img src=\"https://colab.research.google.com/assets/colab-badge.svg\" alt=\"Open In Colab\"/></a>"
      ]
    },
    {
      "cell_type": "code",
      "metadata": {
        "id": "Avf1QOYj-eLv",
        "colab_type": "code",
        "colab": {}
      },
      "source": [
        "from google.colab import files\n",
        "files.upload() #upload kaggle.json\n",
        "!mkdir -p ~/.kaggle\n",
        "!cp kaggle.json ~/.kaggle/"
      ],
      "execution_count": null,
      "outputs": []
    },
    {
      "cell_type": "code",
      "metadata": {
        "id": "yTVoCjM8-lKs",
        "colab_type": "code",
        "colab": {}
      },
      "source": [
        "!kaggle competitions download -c house-prices-advanced-regression-techniques"
      ],
      "execution_count": null,
      "outputs": []
    },
    {
      "cell_type": "code",
      "metadata": {
        "id": "jAkNrlee-o3A",
        "colab_type": "code",
        "colab": {}
      },
      "source": [
        "import pandas as pd\n",
        "test_df = pd.read_csv(\"test.csv\", encoding=\"utf8\")\n",
        "train_df = pd.read_csv(\"train.csv\", encoding=\"utf8\")"
      ],
      "execution_count": null,
      "outputs": []
    },
    {
      "cell_type": "code",
      "metadata": {
        "id": "e9eN75ua-_L5",
        "colab_type": "code",
        "colab": {}
      },
      "source": [
        "# 把 test_df 要預測的欄位先drop掉\n",
        "train_df_drop = train_df.drop([\"SalePrice\"], axis=1)\n",
        "datas = pd.concat([train_df_drop, test_df], axis=0)\n",
        "datas = datas.drop([\"Id\"], axis=1)\n",
        "datas"
      ],
      "execution_count": null,
      "outputs": []
    },
    {
      "cell_type": "code",
      "metadata": {
        "id": "WzYTIvyG_zhg",
        "colab_type": "code",
        "colab": {}
      },
      "source": [
        "# 查看有缺失值的欄位\n",
        "na = datas.isna().sum()\n",
        "na[na != 0].sort_values(ascending=False)"
      ],
      "execution_count": null,
      "outputs": []
    },
    {
      "cell_type": "code",
      "metadata": {
        "id": "96QTKFQQLfQQ",
        "colab_type": "code",
        "colab": {}
      },
      "source": [
        "# 將缺失值超過1000個的欄位drop掉\n",
        "datas = datas.drop(na[na > 1000].index, axis=1)\n",
        "datas"
      ],
      "execution_count": null,
      "outputs": []
    },
    {
      "cell_type": "code",
      "metadata": {
        "id": "dQOsnyxNDaFP",
        "colab_type": "code",
        "colab": {}
      },
      "source": [
        "# 缺失值欄位太多, 先做類別的One-Hot encoding \n",
        "# One-Hot Encoding\n",
        "datas = pd.get_dummies(datas)\n",
        "datas"
      ],
      "execution_count": null,
      "outputs": []
    },
    {
      "cell_type": "code",
      "metadata": {
        "id": "JvlVZqCAL1l0",
        "colab_type": "code",
        "colab": {}
      },
      "source": [
        "med = datas.median()\n",
        "datas = datas.fillna(med)\n",
        "data"
      ],
      "execution_count": null,
      "outputs": []
    },
    {
      "cell_type": "code",
      "metadata": {
        "id": "4x9WSlI5ICVx",
        "colab_type": "code",
        "colab": {}
      },
      "source": [
        "# 取列: .iloc -> [第一筆資料, 第二筆資料...]\n",
        "x_train = datas.iloc[:train_df.shape[0]]\n",
        "y_train = train_df[\"SalePrice\"]\n",
        "x_predict = datas.iloc[train_df.shape[0]:]\n",
        "predict_id = test_df[\"Id\"]"
      ],
      "execution_count": null,
      "outputs": []
    },
    {
      "cell_type": "code",
      "metadata": {
        "id": "nLXVJs1wAAlW",
        "colab_type": "code",
        "colab": {}
      },
      "source": [
        "# TODO: GridSearch自己做 (scoring=)\n",
        "# RandomForest\n",
        "from sklearn.ensemble import RandomForestRegressor\n",
        "reg = RandomForestRegressor(n_estimators=75, max_depth=8)\n",
        "reg.fit(x_train, y_train)\n",
        "pre = reg.predict(x_predict)\n",
        "result = pd.DataFrame({\n",
        "    \"Id\":predict_id,\n",
        "    \"SalePrice\":pre\n",
        "})\n",
        "result.to_csv(\"house_price_rf.csv\", encoding=\"utf-8\", index=False)\n",
        "result"
      ],
      "execution_count": null,
      "outputs": []
    }
  ]
}